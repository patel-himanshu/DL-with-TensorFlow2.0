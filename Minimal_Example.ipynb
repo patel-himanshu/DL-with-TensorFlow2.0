{
 "cells": [
  {
   "cell_type": "markdown",
   "metadata": {},
   "source": [
    "# Simple Linear Regression: Minimal Example"
   ]
  },
  {
   "cell_type": "markdown",
   "metadata": {},
   "source": [
    "### Import the relevant libraries"
   ]
  },
  {
   "cell_type": "code",
   "execution_count": 1,
   "metadata": {},
   "outputs": [],
   "source": [
    "import numpy as np\n",
    "import matplotlib.pyplot as plt\n",
    "import mpl_toolkits.mplot3d as Axes3D"
   ]
  },
  {
   "cell_type": "markdown",
   "metadata": {},
   "source": [
    "### Generate random input data to train on"
   ]
  },
  {
   "cell_type": "code",
   "execution_count": 2,
   "metadata": {},
   "outputs": [],
   "source": [
    "observations = 10000"
   ]
  },
  {
   "cell_type": "markdown",
   "metadata": {},
   "source": [
    "**`np.random.uniform(low, high, size)`** draws a random number from the given interval (low, high), where each number has equal probability of getting selected. Here, size is the shape in which we desire to receive the numbers."
   ]
  },
  {
   "cell_type": "code",
   "execution_count": 3,
   "metadata": {},
   "outputs": [],
   "source": [
    "xs = np.random.uniform(low = -10, high = 10, size = (observations, 1))\n",
    "zs = np.random.uniform(low = -10, high = 10, size = (observations, 1))"
   ]
  },
  {
   "cell_type": "code",
   "execution_count": 4,
   "metadata": {},
   "outputs": [
    {
     "data": {
      "text/plain": [
       "(10000, 2)"
      ]
     },
     "execution_count": 4,
     "metadata": {},
     "output_type": "execute_result"
    }
   ],
   "source": [
    "inputs = np.column_stack((xs, zs))\n",
    "inputs.shape"
   ]
  },
  {
   "cell_type": "markdown",
   "metadata": {},
   "source": [
    "### Creating the targets we will aim at"
   ]
  },
  {
   "cell_type": "code",
   "execution_count": 5,
   "metadata": {},
   "outputs": [],
   "source": [
    "noise = np.random.uniform(-1, 1, (observations, 1))"
   ]
  },
  {
   "cell_type": "code",
   "execution_count": 6,
   "metadata": {},
   "outputs": [],
   "source": [
    "targets = 13*xs + 7*zs - 12 + noise"
   ]
  },
  {
   "cell_type": "code",
   "execution_count": 7,
   "metadata": {},
   "outputs": [
    {
     "data": {
      "text/plain": [
       "(10000, 1)"
      ]
     },
     "execution_count": 7,
     "metadata": {},
     "output_type": "execute_result"
    }
   ],
   "source": [
    "targets.shape"
   ]
  },
  {
   "cell_type": "markdown",
   "metadata": {},
   "source": [
    "### Plotting the training data"
   ]
  },
  {
   "cell_type": "raw",
   "metadata": {},
   "source": [
    "targets = targets.reshape(observations,)\n",
    "fig = plt.figure()\n",
    "ax = fig.add_subplot(111, projection = \"3d\")\n",
    "ax.plot(xs, zs, targets)\n",
    "ax.set_xlabel(\"Xs\")\n",
    "ax.set_ylabel(\"Zs\")\n",
    "ax.set_zlabel(\"Targets\")\n",
    "ax.view_init(azim=100)\n",
    "plt.show()"
   ]
  },
  {
   "cell_type": "code",
   "execution_count": 8,
   "metadata": {},
   "outputs": [],
   "source": [
    "targets = targets.reshape(observations, 1)"
   ]
  },
  {
   "cell_type": "markdown",
   "metadata": {},
   "source": [
    "### Initialize variables"
   ]
  },
  {
   "cell_type": "code",
   "execution_count": 9,
   "metadata": {},
   "outputs": [],
   "source": [
    "init_range = 0.1"
   ]
  },
  {
   "cell_type": "code",
   "execution_count": 10,
   "metadata": {},
   "outputs": [
    {
     "data": {
      "text/plain": [
       "array([[ 0.03666532],\n",
       "       [-0.06347923]])"
      ]
     },
     "execution_count": 10,
     "metadata": {},
     "output_type": "execute_result"
    }
   ],
   "source": [
    "weights = np.random.uniform(-init_range, init_range, size=(2,1))\n",
    "weights"
   ]
  },
  {
   "cell_type": "code",
   "execution_count": 11,
   "metadata": {},
   "outputs": [
    {
     "data": {
      "text/plain": [
       "array([0.03660385])"
      ]
     },
     "execution_count": 11,
     "metadata": {},
     "output_type": "execute_result"
    }
   ],
   "source": [
    "biases = np.random.uniform(-init_range, init_range, size=1)\n",
    "biases"
   ]
  },
  {
   "cell_type": "markdown",
   "metadata": {},
   "source": [
    "### Setting the learning rate"
   ]
  },
  {
   "cell_type": "code",
   "execution_count": 12,
   "metadata": {},
   "outputs": [],
   "source": [
    "learning_rate = 0.02"
   ]
  },
  {
   "cell_type": "markdown",
   "metadata": {},
   "source": [
    "### Training the model"
   ]
  },
  {
   "cell_type": "code",
   "execution_count": 13,
   "metadata": {},
   "outputs": [
    {
     "name": "stdout",
     "output_type": "stream",
     "text": [
      "3749.5634228087974\n",
      "456.10563378049636\n",
      "107.64879909405866\n",
      "68.68064915332825\n",
      "62.32070732897619\n",
      "59.47640244341462\n",
      "57.08763973288924\n",
      "54.82949514174401\n",
      "52.66455220113626\n",
      "50.58573238074666\n",
      "48.589269457397556\n",
      "46.67186493324708\n",
      "44.83038439918739\n",
      "43.06182107742728\n",
      "41.36328761935586\n",
      "39.732011045651085\n",
      "38.16532818282532\n",
      "36.660681311586345\n",
      "35.21561399077967\n",
      "33.827767047034996\n",
      "32.49487472324592\n",
      "31.214760979563067\n",
      "29.98533594085676\n",
      "28.804592484849877\n",
      "27.670602965350497\n",
      "26.581516065234766\n",
      "25.53555377404245\n",
      "24.53100848525049\n",
      "23.56624020848611\n",
      "22.63967389212794\n",
      "21.749796851924245\n",
      "20.89515630143005\n",
      "20.074356980231904\n",
      "19.28605887608767\n",
      "18.52897503726302\n",
      "17.80186947149268\n",
      "17.103555128136747\n",
      "16.432891960237644\n",
      "15.788785063313707\n",
      "15.170182887851162\n",
      "14.576075522576064\n",
      "14.005493045703613\n",
      "13.457503941473009\n",
      "12.931213579382907\n",
      "12.425762753644662\n",
      "11.940326280468797\n",
      "11.474111650894788\n",
      "11.026357736964865\n",
      "10.59633354912943\n",
      "10.183337042855532\n",
      "9.786693972490083\n",
      "9.4057567905068\n",
      "9.039903590339536\n",
      "8.688537091076405\n",
      "8.351083662356949\n",
      "8.026992387880496\n",
      "7.715734165996821\n",
      "7.41680084591069\n",
      "7.129704398090221\n",
      "6.8539761175245895\n",
      "6.58916585853029\n",
      "6.33484129985687\n",
      "6.090587238892369\n",
      "5.856004913815905\n",
      "5.630711352591224\n",
      "5.414338747738125\n",
      "5.206533855860936\n",
      "5.0069574209541\n",
      "4.8152836205429805\n",
      "4.631199533755915\n",
      "4.4544046304590355\n",
      "4.284610280619847\n",
      "4.121539283098503\n",
      "3.964925413097557\n",
      "3.814512987531448\n",
      "3.670056447605933\n",
      "3.5313199579262218\n",
      "3.398077021479237\n",
      "3.2701101098613736\n",
      "3.147210308148203\n",
      "3.029176973826278\n",
      "2.9158174092301836\n",
      "2.8069465469501376\n",
      "2.7023866476965335\n",
      "2.601967010128104\n",
      "2.5055236921700894\n",
      "2.4128992433673\n",
      "2.323942447835289\n",
      "2.2385080773898203\n",
      "2.156456654451746\n",
      "2.0776542243400713\n",
      "2.001972136581635\n",
      "1.9292868348801604\n",
      "1.8594796554020045\n",
      "1.7924366330491706\n",
      "1.7280483154032693\n",
      "1.6662095840368718\n",
      "1.606819482900273\n",
      "1.549781053503696\n",
      "1.4950011766258084\n",
      "1.4423904202900786\n",
      "1.3918628937608037\n",
      "1.3433361073205061\n",
      "1.2967308375996973\n",
      "1.2519709982391851\n",
      "1.208983515673792\n",
      "1.1676982098346498\n",
      "1.1280476795753083\n",
      "1.0899671926346957\n",
      "1.0533945799571431\n",
      "1.018270134197097\n",
      "0.9845365122426453\n",
      "0.9521386415989548\n",
      "0.9210236304785118\n",
      "0.8911406814516182\n",
      "0.8624410085160363\n",
      "0.8348777574504124\n",
      "0.8084059293215011\n",
      "0.7829823070202645\n",
      "0.7585653847069213\n",
      "0.7351153000497432\n",
      "0.7125937691470539\n",
      "0.6909640240260418\n",
      "0.670190752616498\n",
      "0.650240041101398\n",
      "0.6310793185502096\n",
      "0.6126773037445847\n",
      "0.5950039541095792\n",
      "0.5780304166670619\n",
      "0.5617289809311893\n",
      "0.5460730336691275\n",
      "0.5310370154530624\n",
      "0.5165963789326806\n",
      "0.5027275487598718\n",
      "0.4894078831003469\n",
      "0.4766156366692586\n",
      "0.4643299252304957\n",
      "0.45253069150171743\n",
      "0.4411986724094354\n",
      "0.4303153676406952\n",
      "0.41986300944003435\n",
      "0.4098245336023746\n",
      "0.400183551614507\n",
      "0.39092432389971016\n",
      "0.38203173412178737\n",
      "0.3734912645065867\n",
      "0.36528897214073\n",
      "0.35741146620882663\n",
      "0.3498458861320311\n",
      "0.34257988057225125\n",
      "0.33560158726772477\n",
      "0.32889961366705295\n",
      "0.3224630183300562\n",
      "0.3162812930651118\n",
      "0.3103443457738028\n",
      "0.3046424839748551\n",
      "0.2991663989804833\n",
      "0.2939071506993168\n",
      "0.28885615304106155\n",
      "0.28400515989912634\n",
      "0.2793462516882559\n",
      "0.2748718224152783\n",
      "0.2705745672617686\n",
      "0.26644747065843416\n",
      "0.26248379483170536\n",
      "0.258677068803849\n",
      "0.25502107782864214\n",
      "0.2515098532453714\n",
      "0.24813766273456853\n",
      "0.24489900095960662\n",
      "0.24178858057884794\n",
      "0.23880132361369483\n",
      "0.2359323531584264\n",
      "0.2331769854183145\n",
      "0.2305307220630062\n",
      "0.2279892428826735\n",
      "0.22554839873497826\n",
      "0.2232042047713055\n",
      "0.22095283393121748\n",
      "0.2187906106945115\n",
      "0.21671400508067618\n",
      "0.21471962688595314\n",
      "0.2128042201485894\n",
      "0.2109646578332531\n",
      "0.20919793672593368\n",
      "0.2075011725309797\n",
      "0.2058715951622888\n",
      "0.20430654422094385\n",
      "0.2028034646519337\n",
      "0.20135990257283723\n",
      "0.19997350126770003\n",
      "0.19864199733951876\n",
      "0.1973632170150988\n",
      "0.19613507259620974\n",
      "0.1949555590512762\n",
      "0.19382275074202263\n",
      "0.19273479827973214\n",
      "0.1916899255059943\n",
      "0.19068642659299861\n",
      "0.18972266325865522\n"
     ]
    }
   ],
   "source": [
    "for i in range(200):\n",
    "    outputs = np.dot(inputs, weights) + biases\n",
    "    deltas = outputs - targets\n",
    "    \n",
    "    loss = np.sum(deltas ** 2) / 2 / observations # L2-norm with additional divisions\n",
    "    \n",
    "    print(loss)\n",
    "    \n",
    "    deltas_scaled = deltas / observations\n",
    "    \n",
    "    # \"inputs.T\" transposes the input matrix, allowing the dimenstionalities of the 2 matrices to match,\n",
    "    # so that dot product can be performed oon them\n",
    "    weights = weights - learning_rate * np.dot(inputs.T, deltas_scaled)  # Weights updation\n",
    "    biases = biases - learning_rate * np.sum(deltas_scaled)              # Biases updation"
   ]
  },
  {
   "cell_type": "markdown",
   "metadata": {},
   "source": [
    "### Print weights and biases to see if they worked correctly "
   ]
  },
  {
   "cell_type": "code",
   "execution_count": 14,
   "metadata": {},
   "outputs": [
    {
     "data": {
      "text/plain": [
       "array([[12.99955169],\n",
       "       [ 6.99838731]])"
      ]
     },
     "execution_count": 14,
     "metadata": {},
     "output_type": "execute_result"
    }
   ],
   "source": [
    "weights"
   ]
  },
  {
   "cell_type": "code",
   "execution_count": 15,
   "metadata": {},
   "outputs": [
    {
     "data": {
      "text/plain": [
       "array([-11.78333069])"
      ]
     },
     "execution_count": 15,
     "metadata": {},
     "output_type": "execute_result"
    }
   ],
   "source": [
    "biases"
   ]
  },
  {
   "cell_type": "markdown",
   "metadata": {},
   "source": [
    "### Plot outputs vs targets "
   ]
  },
  {
   "cell_type": "code",
   "execution_count": 16,
   "metadata": {},
   "outputs": [
    {
     "data": {
      "image/png": "[encoded data removed]",
      "text/plain": [
       "<Figure size 432x288 with 1 Axes>"
      ]
     },
     "metadata": {
      "needs_background": "light"
     },
     "output_type": "display_data"
    }
   ],
   "source": [
    "plt.plot(outputs, targets)\n",
    "plt.xlabel(\"Outputs\")\n",
    "plt.ylabel(\"Targets\")\n",
    "plt.show()"
   ]
  },
  {
   "cell_type": "code",
   "execution_count": null,
   "metadata": {},
   "outputs": [],
   "source": []
  }
 ],
 "metadata": {
  "kernelspec": {
   "display_name": "TensorFlow-GPU",
   "language": "python",
   "name": "tf_gpu"
  },
  "language_info": {
   "codemirror_mode": {
    "name": "ipython",
    "version": 3
   },
   "file_extension": ".py",
   "mimetype": "text/x-python",
   "name": "python",
   "nbconvert_exporter": "python",
   "pygments_lexer": "ipython3",
   "version": "3.7.6"
  }
 },
 "nbformat": 4,
 "nbformat_minor": 4
}
