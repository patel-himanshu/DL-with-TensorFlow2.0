{
 "cells": [
  {
   "cell_type": "markdown",
   "metadata": {},
   "source": [
    "### Importing required libraries"
   ]
  },
  {
   "cell_type": "code",
   "execution_count": 1,
   "metadata": {},
   "outputs": [],
   "source": [
    "import numpy as np\n",
    "import tensorflow as tf\n",
    "\n",
    "from tensorflow.python.keras import Sequential\n",
    "from tensorflow.python.keras.layers import Dense"
   ]
  },
  {
   "cell_type": "markdown",
   "metadata": {},
   "source": [
    "### Loading data"
   ]
  },
  {
   "cell_type": "code",
   "execution_count": 2,
   "metadata": {},
   "outputs": [],
   "source": [
    "npz1 = np.load('Audiobooks_training.npz')\n",
    "npz2 = np.load('Audiobooks_validation.npz')\n",
    "npz3 = np.load('Audiobooks_testing.npz')"
   ]
  },
  {
   "cell_type": "code",
   "execution_count": 3,
   "metadata": {},
   "outputs": [],
   "source": [
    "# Storing as \"float\" because we have scaled inputs\n",
    "train_inputs = npz1['inputs'].astype(np.float) \n",
    "\n",
    "# As target is 0 or 1\n",
    "train_targets = npz1['targets'].astype(np.int) "
   ]
  },
  {
   "cell_type": "code",
   "execution_count": 4,
   "metadata": {},
   "outputs": [],
   "source": [
    "# Storing as \"float\" because we have scaled inputs\n",
    "validation_inputs = npz2['inputs'].astype(np.float) \n",
    "\n",
    "# As target is 0 or 1\n",
    "validation_targets = npz2['targets'].astype(np.int) "
   ]
  },
  {
   "cell_type": "code",
   "execution_count": 5,
   "metadata": {},
   "outputs": [],
   "source": [
    "# Storing as \"float\" because we have scaled inputs\n",
    "test_inputs = npz3['inputs'].astype(np.float) \n",
    "\n",
    "# As target is 0 or 1\n",
    "test_targets = npz3['targets'].astype(np.int) "
   ]
  },
  {
   "cell_type": "markdown",
   "metadata": {},
   "source": [
    "### Creating our model"
   ]
  },
  {
   "cell_type": "code",
   "execution_count": 6,
   "metadata": {},
   "outputs": [],
   "source": [
    "input_layer_size = 10 # Number of nodes in input layer\n",
    "output_layer_size = 100 # Number of nodes in each hidden layer of the model\n",
    "hidden_layer_size = 2 # Number of nodes in output layer"
   ]
  },
  {
   "cell_type": "code",
   "execution_count": 7,
   "metadata": {},
   "outputs": [],
   "source": [
    "model = Sequential()\n",
    "model.add(Dense(hidden_layer_size, activation='relu'))\n",
    "model.add(Dense(hidden_layer_size, activation='relu'))\n",
    "model.add(Dense(output_layer_size, activation='softmax'))"
   ]
  },
  {
   "cell_type": "code",
   "execution_count": 10,
   "metadata": {},
   "outputs": [],
   "source": [
    "# Setting different hyperparameters for SGD optimizer to be used in the model\n",
    "sgd = tf.keras.optimizers.SGD(learning_rate = 0.1, momentum = 0.9, nesterov = True)"
   ]
  },
  {
   "cell_type": "code",
   "execution_count": 11,
   "metadata": {},
   "outputs": [],
   "source": [
    "model.compile(optimizer = 'sgd', \n",
    "              loss = 'sparse_categorical_crossentropy', \n",
    "              metrics = ['accuracy'])"
   ]
  },
  {
   "cell_type": "markdown",
   "metadata": {},
   "source": [
    "### Training the model"
   ]
  },
  {
   "cell_type": "code",
   "execution_count": 14,
   "metadata": {},
   "outputs": [],
   "source": [
    "num_epochs = 50\n",
    "batch_size = 25"
   ]
  },
  {
   "cell_type": "code",
   "execution_count": 16,
   "metadata": {},
   "outputs": [
    {
     "name": "stdout",
     "output_type": "stream",
     "text": [
      "Train on 3355 samples, validate on 671 samples\n",
      "Epoch 1/50\n",
      "3355/3355 - 1s - loss: 4.2123 - accuracy: 0.4742 - val_loss: 3.7780 - val_accuracy: 0.5156\n",
      "Epoch 2/50\n",
      "3355/3355 - 0s - loss: 3.0739 - accuracy: 0.5049 - val_loss: 2.0140 - val_accuracy: 0.5142\n",
      "Epoch 3/50\n",
      "3355/3355 - 0s - loss: 1.3071 - accuracy: 0.5088 - val_loss: 0.9611 - val_accuracy: 0.5142\n",
      "Epoch 4/50\n",
      "3355/3355 - 0s - loss: 0.8732 - accuracy: 0.5222 - val_loss: 0.8173 - val_accuracy: 0.4993\n",
      "Epoch 5/50\n",
      "3355/3355 - 0s - loss: 0.7869 - accuracy: 0.5216 - val_loss: 0.7644 - val_accuracy: 0.5455\n",
      "Epoch 6/50\n",
      "3355/3355 - 0s - loss: 0.7487 - accuracy: 0.5565 - val_loss: 0.7359 - val_accuracy: 0.5514\n",
      "Epoch 7/50\n",
      "3355/3355 - 0s - loss: 0.7259 - accuracy: 0.5618 - val_loss: 0.7168 - val_accuracy: 0.5544\n",
      "Epoch 8/50\n",
      "3355/3355 - 1s - loss: 0.7096 - accuracy: 0.5815 - val_loss: 0.7092 - val_accuracy: 0.5604\n",
      "Epoch 9/50\n",
      "3355/3355 - 1s - loss: 0.6967 - accuracy: 0.5982 - val_loss: 0.6871 - val_accuracy: 0.6125\n",
      "Epoch 10/50\n",
      "3355/3355 - 0s - loss: 0.6807 - accuracy: 0.6280 - val_loss: 0.6713 - val_accuracy: 0.6662\n",
      "Epoch 11/50\n",
      "3355/3355 - 0s - loss: 0.6618 - accuracy: 0.6545 - val_loss: 0.6528 - val_accuracy: 0.7303\n",
      "Epoch 12/50\n",
      "3355/3355 - 0s - loss: 0.6401 - accuracy: 0.7073 - val_loss: 0.6264 - val_accuracy: 0.6975\n",
      "Epoch 13/50\n",
      "3355/3355 - 0s - loss: 0.6097 - accuracy: 0.7407 - val_loss: 0.5980 - val_accuracy: 0.8137\n",
      "Epoch 14/50\n",
      "3355/3355 - 0s - loss: 0.5747 - accuracy: 0.7860 - val_loss: 0.5584 - val_accuracy: 0.7869\n",
      "Epoch 15/50\n",
      "3355/3355 - 0s - loss: 0.5344 - accuracy: 0.8262 - val_loss: 0.5212 - val_accuracy: 0.8465\n",
      "Epoch 16/50\n",
      "3355/3355 - 0s - loss: 0.4933 - accuracy: 0.8519 - val_loss: 0.4819 - val_accuracy: 0.8510\n",
      "Epoch 17/50\n",
      "3355/3355 - 0s - loss: 0.4562 - accuracy: 0.8623 - val_loss: 0.4567 - val_accuracy: 0.8539\n",
      "Epoch 18/50\n",
      "3355/3355 - 0s - loss: 0.4245 - accuracy: 0.8709 - val_loss: 0.4245 - val_accuracy: 0.8659\n",
      "Epoch 19/50\n",
      "3355/3355 - 0s - loss: 0.3991 - accuracy: 0.8754 - val_loss: 0.4063 - val_accuracy: 0.8689\n",
      "Epoch 20/50\n",
      "3355/3355 - 0s - loss: 0.3779 - accuracy: 0.8796 - val_loss: 0.3912 - val_accuracy: 0.8763\n",
      "Epoch 21/50\n",
      "3355/3355 - 0s - loss: 0.3611 - accuracy: 0.8826 - val_loss: 0.3702 - val_accuracy: 0.8793\n",
      "Epoch 22/50\n",
      "3355/3355 - 0s - loss: 0.3489 - accuracy: 0.8864 - val_loss: 0.3582 - val_accuracy: 0.8808\n",
      "Epoch 23/50\n",
      "3355/3355 - 0s - loss: 0.3382 - accuracy: 0.8867 - val_loss: 0.3482 - val_accuracy: 0.8852\n",
      "Epoch 24/50\n",
      "3355/3355 - 0s - loss: 0.3308 - accuracy: 0.8885 - val_loss: 0.3405 - val_accuracy: 0.8838\n",
      "Epoch 25/50\n",
      "3355/3355 - 0s - loss: 0.3246 - accuracy: 0.8900 - val_loss: 0.3339 - val_accuracy: 0.8882\n",
      "Epoch 26/50\n",
      "3355/3355 - 0s - loss: 0.3189 - accuracy: 0.8930 - val_loss: 0.3266 - val_accuracy: 0.8882\n",
      "Epoch 27/50\n",
      "3355/3355 - 0s - loss: 0.3145 - accuracy: 0.8930 - val_loss: 0.3213 - val_accuracy: 0.8912\n",
      "Epoch 28/50\n",
      "3355/3355 - 0s - loss: 0.3107 - accuracy: 0.8930 - val_loss: 0.3180 - val_accuracy: 0.8927\n",
      "Epoch 29/50\n",
      "3355/3355 - 0s - loss: 0.3063 - accuracy: 0.8942 - val_loss: 0.3139 - val_accuracy: 0.8927\n",
      "Epoch 30/50\n",
      "3355/3355 - 0s - loss: 0.3029 - accuracy: 0.8957 - val_loss: 0.3126 - val_accuracy: 0.9016\n",
      "Epoch 31/50\n",
      "3355/3355 - 0s - loss: 0.3006 - accuracy: 0.8936 - val_loss: 0.3070 - val_accuracy: 0.8987\n",
      "Epoch 32/50\n",
      "3355/3355 - 0s - loss: 0.2972 - accuracy: 0.8960 - val_loss: 0.3052 - val_accuracy: 0.8972\n",
      "Epoch 33/50\n",
      "3355/3355 - 0s - loss: 0.2947 - accuracy: 0.8960 - val_loss: 0.2983 - val_accuracy: 0.9001\n",
      "Epoch 34/50\n",
      "3355/3355 - 0s - loss: 0.2928 - accuracy: 0.8981 - val_loss: 0.3109 - val_accuracy: 0.8942\n",
      "Epoch 35/50\n",
      "3355/3355 - 0s - loss: 0.2915 - accuracy: 0.8975 - val_loss: 0.2927 - val_accuracy: 0.9001\n",
      "Epoch 36/50\n",
      "3355/3355 - 0s - loss: 0.2890 - accuracy: 0.8972 - val_loss: 0.2934 - val_accuracy: 0.9016\n",
      "Epoch 37/50\n",
      "3355/3355 - 0s - loss: 0.2876 - accuracy: 0.8993 - val_loss: 0.2886 - val_accuracy: 0.9001\n",
      "Epoch 38/50\n",
      "3355/3355 - 0s - loss: 0.2855 - accuracy: 0.8978 - val_loss: 0.2888 - val_accuracy: 0.9016\n",
      "Epoch 39/50\n",
      "3355/3355 - 0s - loss: 0.2848 - accuracy: 0.8987 - val_loss: 0.2852 - val_accuracy: 0.9016\n",
      "Epoch 40/50\n",
      "3355/3355 - 0s - loss: 0.2826 - accuracy: 0.9028 - val_loss: 0.3067 - val_accuracy: 0.8897\n",
      "Epoch 41/50\n",
      "3355/3355 - 0s - loss: 0.2829 - accuracy: 0.8990 - val_loss: 0.2817 - val_accuracy: 0.9046\n",
      "Epoch 42/50\n",
      "3355/3355 - 0s - loss: 0.2795 - accuracy: 0.9001 - val_loss: 0.2818 - val_accuracy: 0.9061\n",
      "Epoch 43/50\n",
      "3355/3355 - 0s - loss: 0.2795 - accuracy: 0.9019 - val_loss: 0.2871 - val_accuracy: 0.9076\n",
      "Epoch 44/50\n",
      "3355/3355 - 0s - loss: 0.2797 - accuracy: 0.9001 - val_loss: 0.2796 - val_accuracy: 0.9076\n",
      "Epoch 45/50\n",
      "3355/3355 - 0s - loss: 0.2775 - accuracy: 0.9010 - val_loss: 0.2820 - val_accuracy: 0.9031\n",
      "Epoch 46/50\n",
      "3355/3355 - 0s - loss: 0.2770 - accuracy: 0.9013 - val_loss: 0.2791 - val_accuracy: 0.9091\n",
      "Epoch 47/50\n",
      "3355/3355 - 0s - loss: 0.2769 - accuracy: 0.9031 - val_loss: 0.2764 - val_accuracy: 0.9091\n",
      "Epoch 48/50\n",
      "3355/3355 - 0s - loss: 0.2751 - accuracy: 0.9025 - val_loss: 0.2785 - val_accuracy: 0.9091\n",
      "Epoch 49/50\n",
      "3355/3355 - 0s - loss: 0.2736 - accuracy: 0.9016 - val_loss: 0.2921 - val_accuracy: 0.8927\n",
      "Epoch 50/50\n",
      "3355/3355 - 0s - loss: 0.2753 - accuracy: 0.9028 - val_loss: 0.2725 - val_accuracy: 0.9091\n"
     ]
    },
    {
     "data": {
      "text/plain": [
       "<tensorflow.python.keras.callbacks.History at 0x7f21c468c850>"
      ]
     },
     "execution_count": 16,
     "metadata": {},
     "output_type": "execute_result"
    }
   ],
   "source": [
    "model.fit(x = train_inputs, \n",
    "          y = train_targets,\n",
    "          batch_size = batch_size,\n",
    "          epochs = num_epochs,\n",
    "          validation_data = (validation_inputs, validation_targets),\n",
    "          verbose = 2,\n",
    "          shuffle = True\n",
    "         )"
   ]
  },
  {
   "cell_type": "markdown",
   "metadata": {},
   "source": [
    "Though our training loss consistenly decreases, our validation loss sometimes increase and then again decreases. <br> It means we have overfitted our model. Hence, we have to implement an early stopping mechanism."
   ]
  },
  {
   "cell_type": "markdown",
   "metadata": {},
   "source": [
    "### Implementing early stopping mechanism"
   ]
  },
  {
   "cell_type": "code",
   "execution_count": 19,
   "metadata": {},
   "outputs": [],
   "source": [
    "early_stopping = tf.keras.callbacks.EarlyStopping(patience = 3)"
   ]
  },
  {
   "cell_type": "code",
   "execution_count": 20,
   "metadata": {},
   "outputs": [
    {
     "name": "stdout",
     "output_type": "stream",
     "text": [
      "Train on 3355 samples, validate on 671 samples\n",
      "Epoch 1/50\n",
      "3355/3355 - 0s - loss: 0.2725 - accuracy: 0.9007 - val_loss: 0.2736 - val_accuracy: 0.9106\n",
      "Epoch 2/50\n",
      "3355/3355 - 1s - loss: 0.2713 - accuracy: 0.9049 - val_loss: 0.2755 - val_accuracy: 0.9136\n",
      "Epoch 3/50\n",
      "3355/3355 - 1s - loss: 0.2682 - accuracy: 0.9061 - val_loss: 0.2865 - val_accuracy: 0.8942\n",
      "Epoch 4/50\n",
      "3355/3355 - 1s - loss: 0.2703 - accuracy: 0.9049 - val_loss: 0.2699 - val_accuracy: 0.9106\n",
      "Epoch 5/50\n",
      "3355/3355 - 0s - loss: 0.2700 - accuracy: 0.9049 - val_loss: 0.2730 - val_accuracy: 0.9091\n",
      "Epoch 6/50\n",
      "3355/3355 - 0s - loss: 0.2680 - accuracy: 0.9043 - val_loss: 0.2676 - val_accuracy: 0.9091\n",
      "Epoch 7/50\n",
      "3355/3355 - 1s - loss: 0.2666 - accuracy: 0.9049 - val_loss: 0.2728 - val_accuracy: 0.9091\n",
      "Epoch 8/50\n",
      "3355/3355 - 1s - loss: 0.2671 - accuracy: 0.9061 - val_loss: 0.2694 - val_accuracy: 0.9106\n",
      "Epoch 9/50\n",
      "3355/3355 - 1s - loss: 0.2655 - accuracy: 0.9076 - val_loss: 0.2802 - val_accuracy: 0.9076\n"
     ]
    },
    {
     "data": {
      "text/plain": [
       "<tensorflow.python.keras.callbacks.History at 0x7f21bc782950>"
      ]
     },
     "execution_count": 20,
     "metadata": {},
     "output_type": "execute_result"
    }
   ],
   "source": [
    "model.fit(x = train_inputs, \n",
    "          y = train_targets,\n",
    "          batch_size = batch_size,\n",
    "          epochs = num_epochs,\n",
    "          callbacks = [early_stopping],\n",
    "          validation_data = (validation_inputs, validation_targets),\n",
    "          verbose = 2,\n",
    "          shuffle = True\n",
    "         )"
   ]
  },
  {
   "cell_type": "markdown",
   "metadata": {},
   "source": [
    "### Testing the model"
   ]
  },
  {
   "cell_type": "code",
   "execution_count": 23,
   "metadata": {},
   "outputs": [
    {
     "name": "stdout",
     "output_type": "stream",
     "text": [
      "448/1 - 0s - loss: 0.2607 - accuracy: 0.8817\n"
     ]
    }
   ],
   "source": [
    "test_loss, test_accuracy = model.evaluate(x = test_inputs, y = test_targets, verbose = 2)"
   ]
  },
  {
   "cell_type": "code",
   "execution_count": 30,
   "metadata": {},
   "outputs": [
    {
     "name": "stdout",
     "output_type": "stream",
     "text": [
      "Test Loss: 0.33\n",
      "Test Accuracy: 88.17%\n"
     ]
    }
   ],
   "source": [
    "print(\"Test Loss: {0:.2f}\".format(test_loss))\n",
    "print(\"Test Accuracy: {0:.2f}%\".format(test_accuracy*100))"
   ]
  }
 ],
 "metadata": {
  "kernelspec": {
   "display_name": "TensorFlow-GPU",
   "language": "python",
   "name": "tf_gpu"
  },
  "language_info": {
   "codemirror_mode": {
    "name": "ipython",
    "version": 3
   },
   "file_extension": ".py",
   "mimetype": "text/x-python",
   "name": "python",
   "nbconvert_exporter": "python",
   "pygments_lexer": "ipython3",
   "version": "3.7.6"
  }
 },
 "nbformat": 4,
 "nbformat_minor": 4
}
